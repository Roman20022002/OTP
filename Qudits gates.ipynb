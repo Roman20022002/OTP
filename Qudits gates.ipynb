{
 "cells": [
  {
   "cell_type": "code",
   "execution_count": 1,
   "id": "ee32050d",
   "metadata": {},
   "outputs": [],
   "source": [
    "#Cliffords gates generalize to prime dimension qudits\n",
    "#Pauli-X ('shifter'): X|k> = |k+1> (mod d)\n",
    "    #d=2:\n",
    "    # X = [0 1]    Z = [1 0]\n",
    "    #      1 0          0-1\n",
    "    #d=3:\n",
    "    # X = [0 0 1]  Z = [1 0 0]\n",
    "    #      1 0 0        0 w 0\n",
    "    #      0 1 0        0 0 w² \n",
    "#Pauli-Z ('clocker'): Z|k> = w^k|k> (k=0,...,d-1)"
   ]
  },
  {
   "cell_type": "code",
   "execution_count": 2,
   "id": "4345dd48",
   "metadata": {},
   "outputs": [],
   "source": [
    "# X^d = I, Z^d = I\n",
    "# HXH* = Z"
   ]
  },
  {
   "cell_type": "code",
   "execution_count": 3,
   "id": "08db371e",
   "metadata": {},
   "outputs": [],
   "source": [
    "import qudiet"
   ]
  },
  {
   "cell_type": "code",
   "execution_count": 4,
   "id": "023d6d45",
   "metadata": {},
   "outputs": [],
   "source": [
    "from qudiet.core.quantum_circuit import QuantumCircuit"
   ]
  },
  {
   "cell_type": "code",
   "execution_count": 65,
   "id": "1e7ab959",
   "metadata": {
    "scrolled": true
   },
   "outputs": [
    {
     "name": "stdout",
     "output_type": "stream",
     "text": [
      "<qudiet.core.quantum_circuit.QuantumCircuit object at 0x00000230F3524910>\n"
     ]
    }
   ],
   "source": [
    "qc = QuantumCircuit(\n",
    "\n",
    "    # Represents the dimension of each quantum register\n",
    "    qregs=[2, 2],\n",
    "\n",
    "\n",
    "    # Represents the initial states\n",
    "    init_states=[1, 0],\n",
    ")\n",
    "print(qc)"
   ]
  },
  {
   "cell_type": "code",
   "execution_count": 66,
   "id": "bb568f15",
   "metadata": {},
   "outputs": [
    {
     "ename": "TypeError",
     "evalue": "'int' object is not subscriptable",
     "output_type": "error",
     "traceback": [
      "\u001b[1;31m---------------------------------------------------------------------------\u001b[0m",
      "\u001b[1;31mTypeError\u001b[0m                                 Traceback (most recent call last)",
      "\u001b[1;32m<ipython-input-66-2f20ec471bca>\u001b[0m in \u001b[0;36m<module>\u001b[1;34m\u001b[0m\n\u001b[0;32m      1\u001b[0m \u001b[1;31m#qc.h(0)\u001b[0m\u001b[1;33m\u001b[0m\u001b[1;33m\u001b[0m\u001b[1;33m\u001b[0m\u001b[0m\n\u001b[1;32m----> 2\u001b[1;33m \u001b[0mqc\u001b[0m\u001b[1;33m.\u001b[0m\u001b[0mcx\u001b[0m\u001b[1;33m(\u001b[0m\u001b[1;36m0\u001b[0m\u001b[1;33m,\u001b[0m \u001b[1;36m1\u001b[0m\u001b[1;33m)\u001b[0m\u001b[1;33m\u001b[0m\u001b[1;33m\u001b[0m\u001b[0m\n\u001b[0m\u001b[0;32m      3\u001b[0m \u001b[1;31m# The measure_all definition represents the end of the definition of a QuantumCircuit\u001b[0m\u001b[1;33m\u001b[0m\u001b[1;33m\u001b[0m\u001b[1;33m\u001b[0m\u001b[0m\n\u001b[0;32m      4\u001b[0m \u001b[0mqc\u001b[0m\u001b[1;33m.\u001b[0m\u001b[0mmeasure_all\u001b[0m\u001b[1;33m(\u001b[0m\u001b[1;33m)\u001b[0m\u001b[1;33m\u001b[0m\u001b[1;33m\u001b[0m\u001b[0m\n",
      "\u001b[1;32m~\\anaconda3\\lib\\site-packages\\qudiet\\core\\quantum_circuit.py\u001b[0m in \u001b[0;36mcx\u001b[1;34m(self, acting_on, plus, dims)\u001b[0m\n\u001b[0;32m    268\u001b[0m         \u001b[1;31m#     self._reg_dims[qreg] for qreg in [range(acting_on[0], acting_on[1] + 1) if acting_on[0] < acting_on[1] else range(acting_on[1], acting_on[0] + 1)]\u001b[0m\u001b[1;33m\u001b[0m\u001b[1;33m\u001b[0m\u001b[1;33m\u001b[0m\u001b[0m\n\u001b[0;32m    269\u001b[0m         \u001b[1;31m# ]\u001b[0m\u001b[1;33m\u001b[0m\u001b[1;33m\u001b[0m\u001b[1;33m\u001b[0m\u001b[0m\n\u001b[1;32m--> 270\u001b[1;33m         \u001b[1;32mif\u001b[0m \u001b[0macting_on\u001b[0m\u001b[1;33m[\u001b[0m\u001b[1;36m0\u001b[0m\u001b[1;33m]\u001b[0m \u001b[1;33m<\u001b[0m \u001b[0macting_on\u001b[0m\u001b[1;33m[\u001b[0m\u001b[1;36m1\u001b[0m\u001b[1;33m]\u001b[0m\u001b[1;33m:\u001b[0m\u001b[1;33m\u001b[0m\u001b[1;33m\u001b[0m\u001b[0m\n\u001b[0m\u001b[0;32m    271\u001b[0m             \u001b[0mactive_qregs\u001b[0m \u001b[1;33m=\u001b[0m \u001b[0mself\u001b[0m\u001b[1;33m.\u001b[0m\u001b[0m_reg_dims\u001b[0m\u001b[1;33m[\u001b[0m\u001b[0macting_on\u001b[0m\u001b[1;33m[\u001b[0m\u001b[1;36m0\u001b[0m\u001b[1;33m]\u001b[0m \u001b[1;33m:\u001b[0m \u001b[0macting_on\u001b[0m\u001b[1;33m[\u001b[0m\u001b[1;36m1\u001b[0m\u001b[1;33m]\u001b[0m \u001b[1;33m+\u001b[0m \u001b[1;36m1\u001b[0m\u001b[1;33m]\u001b[0m\u001b[1;33m\u001b[0m\u001b[1;33m\u001b[0m\u001b[0m\n\u001b[0;32m    272\u001b[0m         \u001b[1;32melse\u001b[0m\u001b[1;33m:\u001b[0m\u001b[1;33m\u001b[0m\u001b[1;33m\u001b[0m\u001b[0m\n",
      "\u001b[1;31mTypeError\u001b[0m: 'int' object is not subscriptable"
     ]
    }
   ],
   "source": [
    "#qc.h(0)\n",
    "qc.cx(0, 1)\n",
    "# The measure_all definition represents the end of the definition of a QuantumCircuit \n",
    "qc.measure_all()"
   ]
  },
  {
   "cell_type": "code",
   "execution_count": 59,
   "id": "21ee0b6d",
   "metadata": {},
   "outputs": [
    {
     "data": {
      "text/plain": [
       "[{'|00>': 0.7071067811865475}, {'|10>': 0.7071067811865475}]"
      ]
     },
     "execution_count": 59,
     "metadata": {},
     "output_type": "execute_result"
    }
   ],
   "source": [
    "qc.run()"
   ]
  },
  {
   "cell_type": "code",
   "execution_count": null,
   "id": "34b8d59e",
   "metadata": {},
   "outputs": [],
   "source": []
  }
 ],
 "metadata": {
  "kernelspec": {
   "display_name": "Python 3",
   "language": "python",
   "name": "python3"
  },
  "language_info": {
   "codemirror_mode": {
    "name": "ipython",
    "version": 3
   },
   "file_extension": ".py",
   "mimetype": "text/x-python",
   "name": "python",
   "nbconvert_exporter": "python",
   "pygments_lexer": "ipython3",
   "version": "3.8.8"
  }
 },
 "nbformat": 4,
 "nbformat_minor": 5
}
