{
 "cells": [
  {
   "cell_type": "code",
   "execution_count": 1,
   "id": "ee32050d",
   "metadata": {},
   "outputs": [],
   "source": [
    "#Cliffords gates generalize to prime dimension qudits\n",
    "#Pauli-X ('shifter'): X|k> = |k+1> (mod d)\n",
    "    #d=2:\n",
    "    # X = [0 1]    Z = [1 0]\n",
    "    #      1 0          0-1\n",
    "    #d=3:\n",
    "    # X = [0 0 1]  Z = [1 0 0]\n",
    "    #      1 0 0        0 w 0\n",
    "    #      0 1 0        0 0 w² \n",
    "#Pauli-Z ('clocker'): Z|k> = w^k|k> (k=0,...,d-1)"
   ]
  },
  {
   "cell_type": "code",
   "execution_count": 2,
   "id": "4345dd48",
   "metadata": {},
   "outputs": [],
   "source": [
    "# X^d = I, Z^d = I\n",
    "# HXH* = Z"
   ]
  },
  {
   "cell_type": "code",
   "execution_count": 3,
   "id": "08db371e",
   "metadata": {},
   "outputs": [],
   "source": [
    "import qudiet\n",
    "from qudiet.core.quantum_circuit import QuantumCircuit"
   ]
  },
  {
   "cell_type": "code",
   "execution_count": 11,
   "id": "1e7ab959",
   "metadata": {
    "scrolled": true
   },
   "outputs": [],
   "source": [
    "qc = QuantumCircuit(\n",
    "\n",
    "    # Represents the dimension of each quantum register\n",
    "    qregs=[3],\n",
    "\n",
    "\n",
    "    # Represents the initial states\n",
    "    init_states=[0],\n",
    ")"
   ]
  },
  {
   "cell_type": "code",
   "execution_count": 12,
   "id": "bb568f15",
   "metadata": {},
   "outputs": [
    {
     "data": {
      "text/plain": [
       "True"
      ]
     },
     "execution_count": 12,
     "metadata": {},
     "output_type": "execute_result"
    }
   ],
   "source": [
    "qc.h(0)\n",
    "\n",
    "qc.measure_all()"
   ]
  },
  {
   "cell_type": "code",
   "execution_count": 13,
   "id": "21ee0b6d",
   "metadata": {},
   "outputs": [
    {
     "data": {
      "text/plain": [
       "[{'|0>': (0.5773502691896258+0j)},\n",
       " {'|1>': (0.5773502691896258+0j)},\n",
       " {'|2>': (0.5773502691896258+0j)}]"
      ]
     },
     "execution_count": 13,
     "metadata": {},
     "output_type": "execute_result"
    }
   ],
   "source": [
    "qc.run()"
   ]
  },
  {
   "cell_type": "code",
   "execution_count": null,
   "id": "34b8d59e",
   "metadata": {},
   "outputs": [],
   "source": []
  }
 ],
 "metadata": {
  "kernelspec": {
   "display_name": "Python 3",
   "language": "python",
   "name": "python3"
  },
  "language_info": {
   "codemirror_mode": {
    "name": "ipython",
    "version": 3
   },
   "file_extension": ".py",
   "mimetype": "text/x-python",
   "name": "python",
   "nbconvert_exporter": "python",
   "pygments_lexer": "ipython3",
   "version": "3.8.8"
  }
 },
 "nbformat": 4,
 "nbformat_minor": 5
}
